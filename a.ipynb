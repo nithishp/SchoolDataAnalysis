{
 "cells": [
  {
   "cell_type": "code",
   "execution_count": 15,
   "metadata": {},
   "outputs": [],
   "source": [
    "# Import necessary libraries\n",
    "import pandas as pd\n",
    "import sqlite3\n",
    "import matplotlib.pyplot as plt\n",
    "import seaborn as sns\n",
    "\n",
    "# Connect to SQLite database (or create it)\n",
    "conn = sqlite3.connect('school_platform.db')\n",
    "cursor = conn.cursor()\n"
   ]
  },
  {
   "cell_type": "code",
   "execution_count": 16,
   "metadata": {},
   "outputs": [],
   "source": [
    "\n",
    "\n",
    "\n",
    "# Load data from Excel file\n",
    "excel_file = 'Latest TechTest-BI-Dataset 2021.xlsx'\n",
    "teacher_activity = pd.read_excel(excel_file, sheet_name='Teacher Activity')\n",
    "student_activity = pd.read_excel(excel_file, sheet_name='Student Activity')\n",
    "data_dictionary = pd.read_excel(excel_file, sheet_name='Data Dictonary')\n",
    "\n"
   ]
  },
  {
   "cell_type": "code",
   "execution_count": 17,
   "metadata": {},
   "outputs": [
    {
     "data": {
      "text/plain": [
       "72516"
      ]
     },
     "execution_count": 17,
     "metadata": {},
     "output_type": "execute_result"
    }
   ],
   "source": [
    "\n",
    "# Write data to SQLite tables\n",
    "teacher_activity.to_sql('Teacher_Activity', conn, if_exists='replace', index=False)\n",
    "student_activity.to_sql('Student_Activity', conn, if_exists='replace', index=False)\n",
    "\n",
    "\n"
   ]
  },
  {
   "cell_type": "code",
   "execution_count": 18,
   "metadata": {},
   "outputs": [
    {
     "name": "stdout",
     "output_type": "stream",
     "text": [
      "Top 5 Schools with Overall Teachers’ Login% > 60%:\n",
      "Empty DataFrame\n",
      "Columns: [school_name, login_percentage]\n",
      "Index: []\n"
     ]
    }
   ],
   "source": [
    "\n",
    "# Top 5 schools with overall teachers’ login% > 60%\n",
    "query1 = \"\"\"\n",
    "SELECT school_name, \n",
    "       AVG(CAST(is_present AS INT)) * 100 AS login_percentage\n",
    "FROM Teacher_Activity\n",
    "GROUP BY school_name\n",
    "HAVING login_percentage > 60\n",
    "ORDER BY login_percentage DESC\n",
    "LIMIT 5;\n",
    "\"\"\"\n",
    "top_schools = pd.read_sql_query(query1, conn)\n",
    "print(\"Top 5 Schools with Overall Teachers’ Login% > 60%:\")\n",
    "print(top_schools)\n"
   ]
  },
  {
   "cell_type": "code",
   "execution_count": 24,
   "metadata": {},
   "outputs": [
    {
     "ename": "NameError",
     "evalue": "name 'top_schools_df' is not defined",
     "output_type": "error",
     "traceback": [
      "\u001b[1;31m---------------------------------------------------------------------------\u001b[0m",
      "\u001b[1;31mNameError\u001b[0m                                 Traceback (most recent call last)",
      "Cell \u001b[1;32mIn[24], line 2\u001b[0m\n\u001b[0;32m      1\u001b[0m plt\u001b[38;5;241m.\u001b[39mfigure(figsize\u001b[38;5;241m=\u001b[39m(\u001b[38;5;241m10\u001b[39m, \u001b[38;5;241m6\u001b[39m))\n\u001b[1;32m----> 2\u001b[0m sns\u001b[38;5;241m.\u001b[39mbarplot(x\u001b[38;5;241m=\u001b[39m\u001b[38;5;124m'\u001b[39m\u001b[38;5;124mlogin_percentage\u001b[39m\u001b[38;5;124m'\u001b[39m, y\u001b[38;5;241m=\u001b[39m\u001b[38;5;124m'\u001b[39m\u001b[38;5;124mschool_name\u001b[39m\u001b[38;5;124m'\u001b[39m, data\u001b[38;5;241m=\u001b[39mtop_schools_df, palette\u001b[38;5;241m=\u001b[39m\u001b[38;5;124m'\u001b[39m\u001b[38;5;124mviridis\u001b[39m\u001b[38;5;124m'\u001b[39m)\n\u001b[0;32m      3\u001b[0m plt\u001b[38;5;241m.\u001b[39mtitle(\u001b[38;5;124m'\u001b[39m\u001b[38;5;124mTop 5 Schools with Highest Teacher Login Percentage\u001b[39m\u001b[38;5;124m'\u001b[39m)\n\u001b[0;32m      4\u001b[0m plt\u001b[38;5;241m.\u001b[39mxlabel(\u001b[38;5;124m'\u001b[39m\u001b[38;5;124mLogin Percentage\u001b[39m\u001b[38;5;124m'\u001b[39m)\n",
      "\u001b[1;31mNameError\u001b[0m: name 'top_schools_df' is not defined"
     ]
    },
    {
     "data": {
      "text/plain": [
       "<Figure size 1000x600 with 0 Axes>"
      ]
     },
     "metadata": {},
     "output_type": "display_data"
    }
   ],
   "source": [
    "plt.figure(figsize=(10, 6))\n",
    "sns.barplot(x='login_percentage', y='school_name', data=top_schools_df, palette='viridis')\n",
    "plt.title('Top 5 Schools with Highest Teacher Login Percentage')\n",
    "plt.xlabel('Login Percentage')\n",
    "plt.ylabel('School Name')\n",
    "plt.show()"
   ]
  },
  {
   "cell_type": "code",
   "execution_count": 19,
   "metadata": {},
   "outputs": [
    {
     "name": "stdout",
     "output_type": "stream",
     "text": [
      "Teachers Login Day Over Day Change in Percentage Across All Schools:\n",
      "        school_name  login_date  login_percentage\n",
      "0    ABU DHABI_1373  2020-10-25         15.384615\n",
      "1    ABU DHABI_1373  2020-10-26         23.076923\n",
      "2    ABU DHABI_1373  2020-10-27         15.384615\n",
      "3    ABU DHABI_1373  2020-10-28         23.076923\n",
      "4    ABU DHABI_1373  2020-10-29          0.000000\n",
      "..              ...         ...               ...\n",
      "191     AL AIN_1775  2020-11-03         11.764706\n",
      "192     AL AIN_1775  2020-11-04         11.764706\n",
      "193     AL AIN_1775  2020-11-05         17.647059\n",
      "194     AL AIN_1775  2020-11-06          0.000000\n",
      "195     AL AIN_1775  2020-11-07          0.000000\n",
      "\n",
      "[196 rows x 3 columns]\n"
     ]
    }
   ],
   "source": [
    "\n",
    "# Teachers Login day over day change in percentage across all schools\n",
    "query2 = \"\"\"\n",
    "SELECT school_name,\n",
    "       DATE(record_date) AS login_date,\n",
    "       (CAST(SUM(is_present) AS FLOAT) / COUNT(DISTINCT teacher_id)) * 100 AS login_percentage\n",
    "FROM Teacher_Activity\n",
    "GROUP BY school_name, login_date\n",
    "ORDER BY school_name, login_date;\n",
    "\"\"\"\n",
    "day_over_day_change = pd.read_sql_query(query2, conn)\n",
    "print(\"Teachers Login Day Over Day Change in Percentage Across All Schools:\")\n",
    "print(day_over_day_change)\n"
   ]
  },
  {
   "cell_type": "code",
   "execution_count": 26,
   "metadata": {},
   "outputs": [
    {
     "ename": "DatabaseError",
     "evalue": "Execution failed on sql '\nWITH monthly_login AS (\nSELECT school_name, \n       COUNT(DISTINCT student_id) * 500 AS revenue\nFROM Student_Activity\nWHERE is_present = 1\nGROUP BY school_name ;\n': near \";\": syntax error",
     "output_type": "error",
     "traceback": [
      "\u001b[1;31m---------------------------------------------------------------------------\u001b[0m",
      "\u001b[1;31mOperationalError\u001b[0m                          Traceback (most recent call last)",
      "File \u001b[1;32mc:\\Users\\nithi\\anaconda3\\Lib\\site-packages\\pandas\\io\\sql.py:2202\u001b[0m, in \u001b[0;36mSQLiteDatabase.execute\u001b[1;34m(self, sql, params)\u001b[0m\n\u001b[0;32m   2201\u001b[0m \u001b[38;5;28;01mtry\u001b[39;00m:\n\u001b[1;32m-> 2202\u001b[0m     cur\u001b[38;5;241m.\u001b[39mexecute(sql, \u001b[38;5;241m*\u001b[39margs)\n\u001b[0;32m   2203\u001b[0m     \u001b[38;5;28;01mreturn\u001b[39;00m cur\n",
      "\u001b[1;31mOperationalError\u001b[0m: near \";\": syntax error",
      "\nThe above exception was the direct cause of the following exception:\n",
      "\u001b[1;31mDatabaseError\u001b[0m                             Traceback (most recent call last)",
      "Cell \u001b[1;32mIn[26], line 10\u001b[0m\n\u001b[0;32m      1\u001b[0m \u001b[38;5;66;03m# If each billable student pays $500/Month, what’s the revenue generated per school\u001b[39;00m\n\u001b[0;32m      2\u001b[0m query3 \u001b[38;5;241m=\u001b[39m \u001b[38;5;124m\"\"\"\u001b[39m\n\u001b[0;32m      3\u001b[0m \u001b[38;5;124mWITH monthly_login AS (\u001b[39m\n\u001b[0;32m      4\u001b[0m \u001b[38;5;124mSELECT school_name, \u001b[39m\n\u001b[1;32m   (...)\u001b[0m\n\u001b[0;32m      8\u001b[0m \u001b[38;5;124mGROUP BY school_name ;\u001b[39m\n\u001b[0;32m      9\u001b[0m \u001b[38;5;124m\"\"\"\u001b[39m\n\u001b[1;32m---> 10\u001b[0m revenue_per_school \u001b[38;5;241m=\u001b[39m pd\u001b[38;5;241m.\u001b[39mread_sql_query(query3, conn)\n\u001b[0;32m     11\u001b[0m \u001b[38;5;28mprint\u001b[39m(\u001b[38;5;124m\"\u001b[39m\u001b[38;5;124mRevenue Generated per School:\u001b[39m\u001b[38;5;124m\"\u001b[39m)\n\u001b[0;32m     12\u001b[0m \u001b[38;5;28mprint\u001b[39m(revenue_per_school)\n",
      "File \u001b[1;32mc:\\Users\\nithi\\anaconda3\\Lib\\site-packages\\pandas\\io\\sql.py:469\u001b[0m, in \u001b[0;36mread_sql_query\u001b[1;34m(sql, con, index_col, coerce_float, params, parse_dates, chunksize, dtype, dtype_backend)\u001b[0m\n\u001b[0;32m    466\u001b[0m     dtype_backend \u001b[38;5;241m=\u001b[39m \u001b[38;5;124m\"\u001b[39m\u001b[38;5;124mnumpy\u001b[39m\u001b[38;5;124m\"\u001b[39m  \u001b[38;5;66;03m# type: ignore[assignment]\u001b[39;00m\n\u001b[0;32m    468\u001b[0m \u001b[38;5;28;01mwith\u001b[39;00m pandasSQL_builder(con) \u001b[38;5;28;01mas\u001b[39;00m pandas_sql:\n\u001b[1;32m--> 469\u001b[0m     \u001b[38;5;28;01mreturn\u001b[39;00m pandas_sql\u001b[38;5;241m.\u001b[39mread_query(\n\u001b[0;32m    470\u001b[0m         sql,\n\u001b[0;32m    471\u001b[0m         index_col\u001b[38;5;241m=\u001b[39mindex_col,\n\u001b[0;32m    472\u001b[0m         params\u001b[38;5;241m=\u001b[39mparams,\n\u001b[0;32m    473\u001b[0m         coerce_float\u001b[38;5;241m=\u001b[39mcoerce_float,\n\u001b[0;32m    474\u001b[0m         parse_dates\u001b[38;5;241m=\u001b[39mparse_dates,\n\u001b[0;32m    475\u001b[0m         chunksize\u001b[38;5;241m=\u001b[39mchunksize,\n\u001b[0;32m    476\u001b[0m         dtype\u001b[38;5;241m=\u001b[39mdtype,\n\u001b[0;32m    477\u001b[0m         dtype_backend\u001b[38;5;241m=\u001b[39mdtype_backend,\n\u001b[0;32m    478\u001b[0m     )\n",
      "File \u001b[1;32mc:\\Users\\nithi\\anaconda3\\Lib\\site-packages\\pandas\\io\\sql.py:2266\u001b[0m, in \u001b[0;36mSQLiteDatabase.read_query\u001b[1;34m(self, sql, index_col, coerce_float, parse_dates, params, chunksize, dtype, dtype_backend)\u001b[0m\n\u001b[0;32m   2255\u001b[0m \u001b[38;5;28;01mdef\u001b[39;00m \u001b[38;5;21mread_query\u001b[39m(\n\u001b[0;32m   2256\u001b[0m     \u001b[38;5;28mself\u001b[39m,\n\u001b[0;32m   2257\u001b[0m     sql,\n\u001b[1;32m   (...)\u001b[0m\n\u001b[0;32m   2264\u001b[0m     dtype_backend: DtypeBackend \u001b[38;5;241m|\u001b[39m Literal[\u001b[38;5;124m\"\u001b[39m\u001b[38;5;124mnumpy\u001b[39m\u001b[38;5;124m\"\u001b[39m] \u001b[38;5;241m=\u001b[39m \u001b[38;5;124m\"\u001b[39m\u001b[38;5;124mnumpy\u001b[39m\u001b[38;5;124m\"\u001b[39m,\n\u001b[0;32m   2265\u001b[0m ) \u001b[38;5;241m-\u001b[39m\u001b[38;5;241m>\u001b[39m DataFrame \u001b[38;5;241m|\u001b[39m Iterator[DataFrame]:\n\u001b[1;32m-> 2266\u001b[0m     cursor \u001b[38;5;241m=\u001b[39m \u001b[38;5;28mself\u001b[39m\u001b[38;5;241m.\u001b[39mexecute(sql, params)\n\u001b[0;32m   2267\u001b[0m     columns \u001b[38;5;241m=\u001b[39m [col_desc[\u001b[38;5;241m0\u001b[39m] \u001b[38;5;28;01mfor\u001b[39;00m col_desc \u001b[38;5;129;01min\u001b[39;00m cursor\u001b[38;5;241m.\u001b[39mdescription]\n\u001b[0;32m   2269\u001b[0m     \u001b[38;5;28;01mif\u001b[39;00m chunksize \u001b[38;5;129;01mis\u001b[39;00m \u001b[38;5;129;01mnot\u001b[39;00m \u001b[38;5;28;01mNone\u001b[39;00m:\n",
      "File \u001b[1;32mc:\\Users\\nithi\\anaconda3\\Lib\\site-packages\\pandas\\io\\sql.py:2214\u001b[0m, in \u001b[0;36mSQLiteDatabase.execute\u001b[1;34m(self, sql, params)\u001b[0m\n\u001b[0;32m   2211\u001b[0m     \u001b[38;5;28;01mraise\u001b[39;00m ex \u001b[38;5;28;01mfrom\u001b[39;00m \u001b[38;5;21;01minner_exc\u001b[39;00m\n\u001b[0;32m   2213\u001b[0m ex \u001b[38;5;241m=\u001b[39m DatabaseError(\u001b[38;5;124mf\u001b[39m\u001b[38;5;124m\"\u001b[39m\u001b[38;5;124mExecution failed on sql \u001b[39m\u001b[38;5;124m'\u001b[39m\u001b[38;5;132;01m{\u001b[39;00msql\u001b[38;5;132;01m}\u001b[39;00m\u001b[38;5;124m'\u001b[39m\u001b[38;5;124m: \u001b[39m\u001b[38;5;132;01m{\u001b[39;00mexc\u001b[38;5;132;01m}\u001b[39;00m\u001b[38;5;124m\"\u001b[39m)\n\u001b[1;32m-> 2214\u001b[0m \u001b[38;5;28;01mraise\u001b[39;00m ex \u001b[38;5;28;01mfrom\u001b[39;00m \u001b[38;5;21;01mexc\u001b[39;00m\n",
      "\u001b[1;31mDatabaseError\u001b[0m: Execution failed on sql '\nWITH monthly_login AS (\nSELECT school_name, \n       COUNT(DISTINCT student_id) * 500 AS revenue\nFROM Student_Activity\nWHERE is_present = 1\nGROUP BY school_name ;\n': near \";\": syntax error"
     ]
    }
   ],
   "source": [
    "\n",
    "# If each billable student pays $500/Month, what’s the revenue generated per school\n",
    "query3 = \"\"\"\n",
    "WITH monthly_login AS (\n",
    "SELECT school_name, \n",
    "       COUNT(DISTINCT student_id) * 500 AS revenue\n",
    "FROM Student_Activity\n",
    "WHERE is_present = 1\n",
    "GROUP BY school_name ;\n",
    "\"\"\"\n",
    "revenue_per_school = pd.read_sql_query(query3, conn)\n",
    "print(\"Revenue Generated per School:\")\n",
    "print(revenue_per_school)\n"
   ]
  },
  {
   "cell_type": "code",
   "execution_count": 21,
   "metadata": {},
   "outputs": [
    {
     "name": "stdout",
     "output_type": "stream",
     "text": [
      "Number of Teachers per School Who Logged in 3 Consecutive Days:\n",
      "       school_name  teacher_id  consecutive_days_logged_in\n",
      "0   ABU DHABI_1373      300440                           7\n",
      "1   ABU DHABI_1373      303432                           9\n",
      "2   ABU DHABI_1373      306517                           9\n",
      "3   ABU DHABI_1373      531571                           4\n",
      "4   ABU DHABI_1498      556158                           8\n",
      "..             ...         ...                         ...\n",
      "73     AL AIN_1562      508232                           6\n",
      "74     AL AIN_1562      508360                           5\n",
      "75     AL AIN_1562      508392                          11\n",
      "76     AL AIN_1775      573625                           5\n",
      "77     AL AIN_1775      574009                           5\n",
      "\n",
      "[78 rows x 3 columns]\n"
     ]
    }
   ],
   "source": [
    "\n",
    "# Find the number of teachers per school who logged in 3 consecutive days\n",
    "query4 = \"\"\"\n",
    "SELECT school_name, \n",
    "       teacher_id, \n",
    "       COUNT(DISTINCT DATE(record_date)) AS consecutive_days_logged_in\n",
    "FROM Teacher_Activity\n",
    "WHERE is_present = 1\n",
    "GROUP BY school_name, teacher_id\n",
    "HAVING consecutive_days_logged_in >= 3;\n",
    "\"\"\"\n",
    "teachers_consecutive_logins = pd.read_sql_query(query4, conn)\n",
    "print(\"Number of Teachers per School Who Logged in 3 Consecutive Days:\")\n",
    "print(teachers_consecutive_logins)\n"
   ]
  },
  {
   "cell_type": "code",
   "execution_count": 22,
   "metadata": {},
   "outputs": [
    {
     "name": "stdout",
     "output_type": "stream",
     "text": [
      "Weekly Average for Student Login Activity per School:\n",
      "       school_name week_number  login_percentage\n",
      "0   ABU DHABI_1373     2020-42         10.273973\n",
      "1   ABU DHABI_1373     2020-43          7.261509\n",
      "2   ABU DHABI_1373     2020-44         12.678288\n",
      "3   ABU DHABI_1380     2020-42          0.696864\n",
      "4   ABU DHABI_1380     2020-43          0.447984\n",
      "5   ABU DHABI_1380     2020-44          0.754936\n",
      "6   ABU DHABI_1476     2020-42          0.000000\n",
      "7   ABU DHABI_1476     2020-43          0.000000\n",
      "8   ABU DHABI_1476     2020-44          5.555556\n",
      "9   ABU DHABI_1498     2020-42         32.142857\n",
      "10  ABU DHABI_1498     2020-43         24.236818\n",
      "11  ABU DHABI_1498     2020-44         28.456159\n",
      "12  ABU DHABI_1530     2020-42         20.069204\n",
      "13  ABU DHABI_1530     2020-43         17.525773\n",
      "14  ABU DHABI_1530     2020-44         23.472302\n",
      "15  ABU DHABI_1620     2020-42          1.418440\n",
      "16  ABU DHABI_1620     2020-43          0.607903\n",
      "17  ABU DHABI_1620     2020-44          0.118203\n",
      "18  ABU DHABI_1642     2020-42          0.154162\n",
      "19  ABU DHABI_1642     2020-43          0.044046\n",
      "20  ABU DHABI_1642     2020-44          0.094210\n",
      "21  ABU DHABI_1652     2020-42          0.000000\n",
      "22  ABU DHABI_1652     2020-43          6.426100\n",
      "23  ABU DHABI_1652     2020-44         26.141553\n",
      "24  ABU DHABI_1706     2020-42         21.455939\n",
      "25  ABU DHABI_1706     2020-43         13.656267\n",
      "26  ABU DHABI_1706     2020-44         25.653282\n",
      "27   ABU DHABI_176     2020-42          0.000000\n",
      "28   ABU DHABI_176     2020-43          2.023810\n",
      "29   ABU DHABI_176     2020-44          8.194444\n",
      "30  ABU DHABI_1967     2020-42         14.285714\n",
      "31  ABU DHABI_1967     2020-43          8.343337\n",
      "32  ABU DHABI_1967     2020-44         11.624650\n",
      "33   ABU DHABI_377     2020-42         40.506329\n",
      "34   ABU DHABI_377     2020-43         33.227848\n",
      "35   ABU DHABI_377     2020-44         30.748945\n",
      "36     AL AIN_1562     2020-42         17.159763\n",
      "37     AL AIN_1562     2020-43          7.016061\n",
      "38     AL AIN_1562     2020-44          9.072978\n",
      "39     AL AIN_1775     2020-42          0.000000\n",
      "40     AL AIN_1775     2020-43          3.296703\n",
      "41     AL AIN_1775     2020-44          6.623932\n"
     ]
    }
   ],
   "source": [
    "\n",
    "# Find the weekly average for student login activity per school\n",
    "query5 = \"\"\"\n",
    "SELECT school_name, \n",
    "       STRFTIME('%Y-%W', record_date) AS week_number,\n",
    "       AVG(CAST(is_present AS INT)) * 100 AS login_percentage\n",
    "FROM Student_Activity\n",
    "GROUP BY school_name, week_number;\n",
    "\"\"\"\n",
    "weekly_average_logins = pd.read_sql_query(query5, conn)\n",
    "print(\"Weekly Average for Student Login Activity per School:\")\n",
    "print(weekly_average_logins)\n"
   ]
  },
  {
   "cell_type": "code",
   "execution_count": 23,
   "metadata": {},
   "outputs": [
    {
     "ename": "ValueError",
     "evalue": "Could not interpret input 'school_id'",
     "output_type": "error",
     "traceback": [
      "\u001b[1;31m---------------------------------------------------------------------------\u001b[0m",
      "\u001b[1;31mValueError\u001b[0m                                Traceback (most recent call last)",
      "Cell \u001b[1;32mIn[23], line 5\u001b[0m\n\u001b[0;32m      1\u001b[0m \u001b[38;5;66;03m# Data visualization\u001b[39;00m\n\u001b[0;32m      2\u001b[0m \n\u001b[0;32m      3\u001b[0m \u001b[38;5;66;03m# Top 5 Schools with Overall Teachers’ Login% > 60%\u001b[39;00m\n\u001b[0;32m      4\u001b[0m plt\u001b[38;5;241m.\u001b[39mfigure(figsize\u001b[38;5;241m=\u001b[39m(\u001b[38;5;241m10\u001b[39m, \u001b[38;5;241m6\u001b[39m))\n\u001b[1;32m----> 5\u001b[0m sns\u001b[38;5;241m.\u001b[39mbarplot(x\u001b[38;5;241m=\u001b[39m\u001b[38;5;124m'\u001b[39m\u001b[38;5;124mschool_id\u001b[39m\u001b[38;5;124m'\u001b[39m, y\u001b[38;5;241m=\u001b[39m\u001b[38;5;124m'\u001b[39m\u001b[38;5;124mlogin_percentage\u001b[39m\u001b[38;5;124m'\u001b[39m, data\u001b[38;5;241m=\u001b[39mtop_schools)\n\u001b[0;32m      6\u001b[0m plt\u001b[38;5;241m.\u001b[39mtitle(\u001b[38;5;124m'\u001b[39m\u001b[38;5;124mTop 5 Schools with Overall Teachers’ Login\u001b[39m\u001b[38;5;124m%\u001b[39m\u001b[38;5;124m > 60\u001b[39m\u001b[38;5;124m%\u001b[39m\u001b[38;5;124m'\u001b[39m)\n\u001b[0;32m      7\u001b[0m plt\u001b[38;5;241m.\u001b[39mxlabel(\u001b[38;5;124m'\u001b[39m\u001b[38;5;124mSchool ID\u001b[39m\u001b[38;5;124m'\u001b[39m)\n",
      "File \u001b[1;32mc:\\Users\\nithi\\anaconda3\\Lib\\site-packages\\seaborn\\categorical.py:2755\u001b[0m, in \u001b[0;36mbarplot\u001b[1;34m(data, x, y, hue, order, hue_order, estimator, errorbar, n_boot, units, seed, orient, color, palette, saturation, width, errcolor, errwidth, capsize, dodge, ci, ax, **kwargs)\u001b[0m\n\u001b[0;32m   2752\u001b[0m \u001b[38;5;28;01mif\u001b[39;00m estimator \u001b[38;5;129;01mis\u001b[39;00m \u001b[38;5;28mlen\u001b[39m:\n\u001b[0;32m   2753\u001b[0m     estimator \u001b[38;5;241m=\u001b[39m \u001b[38;5;124m\"\u001b[39m\u001b[38;5;124msize\u001b[39m\u001b[38;5;124m\"\u001b[39m\n\u001b[1;32m-> 2755\u001b[0m plotter \u001b[38;5;241m=\u001b[39m _BarPlotter(x, y, hue, data, order, hue_order,\n\u001b[0;32m   2756\u001b[0m                       estimator, errorbar, n_boot, units, seed,\n\u001b[0;32m   2757\u001b[0m                       orient, color, palette, saturation,\n\u001b[0;32m   2758\u001b[0m                       width, errcolor, errwidth, capsize, dodge)\n\u001b[0;32m   2760\u001b[0m \u001b[38;5;28;01mif\u001b[39;00m ax \u001b[38;5;129;01mis\u001b[39;00m \u001b[38;5;28;01mNone\u001b[39;00m:\n\u001b[0;32m   2761\u001b[0m     ax \u001b[38;5;241m=\u001b[39m plt\u001b[38;5;241m.\u001b[39mgca()\n",
      "File \u001b[1;32mc:\\Users\\nithi\\anaconda3\\Lib\\site-packages\\seaborn\\categorical.py:1530\u001b[0m, in \u001b[0;36m_BarPlotter.__init__\u001b[1;34m(self, x, y, hue, data, order, hue_order, estimator, errorbar, n_boot, units, seed, orient, color, palette, saturation, width, errcolor, errwidth, capsize, dodge)\u001b[0m\n\u001b[0;32m   1525\u001b[0m \u001b[38;5;28;01mdef\u001b[39;00m \u001b[38;5;21m__init__\u001b[39m(\u001b[38;5;28mself\u001b[39m, x, y, hue, data, order, hue_order,\n\u001b[0;32m   1526\u001b[0m              estimator, errorbar, n_boot, units, seed,\n\u001b[0;32m   1527\u001b[0m              orient, color, palette, saturation, width,\n\u001b[0;32m   1528\u001b[0m              errcolor, errwidth, capsize, dodge):\n\u001b[0;32m   1529\u001b[0m \u001b[38;5;250m    \u001b[39m\u001b[38;5;124;03m\"\"\"Initialize the plotter.\"\"\"\u001b[39;00m\n\u001b[1;32m-> 1530\u001b[0m     \u001b[38;5;28mself\u001b[39m\u001b[38;5;241m.\u001b[39mestablish_variables(x, y, hue, data, orient,\n\u001b[0;32m   1531\u001b[0m                              order, hue_order, units)\n\u001b[0;32m   1532\u001b[0m     \u001b[38;5;28mself\u001b[39m\u001b[38;5;241m.\u001b[39mestablish_colors(color, palette, saturation)\n\u001b[0;32m   1533\u001b[0m     \u001b[38;5;28mself\u001b[39m\u001b[38;5;241m.\u001b[39mestimate_statistic(estimator, errorbar, n_boot, seed)\n",
      "File \u001b[1;32mc:\\Users\\nithi\\anaconda3\\Lib\\site-packages\\seaborn\\categorical.py:541\u001b[0m, in \u001b[0;36m_CategoricalPlotter.establish_variables\u001b[1;34m(self, x, y, hue, data, orient, order, hue_order, units)\u001b[0m\n\u001b[0;32m    539\u001b[0m     \u001b[38;5;28;01mif\u001b[39;00m \u001b[38;5;28misinstance\u001b[39m(var, \u001b[38;5;28mstr\u001b[39m):\n\u001b[0;32m    540\u001b[0m         err \u001b[38;5;241m=\u001b[39m \u001b[38;5;124mf\u001b[39m\u001b[38;5;124m\"\u001b[39m\u001b[38;5;124mCould not interpret input \u001b[39m\u001b[38;5;124m'\u001b[39m\u001b[38;5;132;01m{\u001b[39;00mvar\u001b[38;5;132;01m}\u001b[39;00m\u001b[38;5;124m'\u001b[39m\u001b[38;5;124m\"\u001b[39m\n\u001b[1;32m--> 541\u001b[0m         \u001b[38;5;28;01mraise\u001b[39;00m \u001b[38;5;167;01mValueError\u001b[39;00m(err)\n\u001b[0;32m    543\u001b[0m \u001b[38;5;66;03m# Figure out the plotting orientation\u001b[39;00m\n\u001b[0;32m    544\u001b[0m orient \u001b[38;5;241m=\u001b[39m infer_orient(\n\u001b[0;32m    545\u001b[0m     x, y, orient, require_numeric\u001b[38;5;241m=\u001b[39m\u001b[38;5;28mself\u001b[39m\u001b[38;5;241m.\u001b[39mrequire_numeric\n\u001b[0;32m    546\u001b[0m )\n",
      "\u001b[1;31mValueError\u001b[0m: Could not interpret input 'school_id'"
     ]
    },
    {
     "data": {
      "text/plain": [
       "<Figure size 1000x600 with 0 Axes>"
      ]
     },
     "metadata": {},
     "output_type": "display_data"
    }
   ],
   "source": [
    "\n",
    "# Data visualization\n",
    "\n",
    "# Top 5 Schools with Overall Teachers’ Login% > 60%\n",
    "plt.figure(figsize=(10, 6))\n",
    "sns.barplot(x='school_id', y='login_percentage', data=top_schools)\n",
    "plt.title('Top 5 Schools with Overall Teachers’ Login% > 60%')\n",
    "plt.xlabel('School ID')\n",
    "plt.ylabel('Login Percentage')\n",
    "plt.show()\n",
    "\n",
    "# Teachers Login Day Over Day Change in Percentage Across All Schools\n",
    "plt.figure(figsize=(12, 6))\n",
    "for school in day_over_day_change['school_id'].unique():\n",
    "    data = day_over_day_change[day_over_day_change['school_id'] == school]\n",
    "    plt.plot(data['login_date'], data['day_over_day_change'], label=f'School {school}')\n",
    "plt.title('Teachers Login Day Over Day Change in Percentage Across All Schools')\n",
    "plt.xlabel('Date')\n",
    "plt.ylabel('Day Over Day Change (%)')\n",
    "plt.legend()\n",
    "plt.show()\n",
    "\n",
    "# Revenue Generated per School\n",
    "plt.figure(figsize=(10, 6))\n",
    "sns.barplot(x='school_id', y='revenue_per_school', data=revenue_per_school)\n",
    "plt.title('Revenue Generated per School')\n",
    "plt.xlabel('School ID')\n",
    "plt.ylabel('Revenue ($)')\n",
    "plt.show()\n",
    "\n",
    "# Number of Teachers per School Who Logged in 3 Consecutive Days\n",
    "plt.figure(figsize=(10, 6))\n",
    "sns.barplot(x='school_id', y='teachers_with_3_consecutive_logins', data=teachers_consecutive_logins)\n",
    "plt.title('Number of Teachers per School Who Logged in 3 Consecutive Days')\n",
    "plt.xlabel('School ID')\n",
    "plt.ylabel('Number of Teachers')\n",
    "plt.show()\n",
    "\n",
    "# Weekly Average for Student Login Activity per School\n",
    "plt.figure(figsize=(10, 6))\n",
    "sns.barplot(x='school_id', y='average_weekly_logins', data=weekly_average_logins)\n",
    "plt.title('Weekly Average for Student Login Activity per School')\n",
    "plt.xlabel('School ID')\n",
    "plt.ylabel('Average Weekly Logins')\n",
    "plt.show()\n",
    "\n",
    "# Close the database connection\n",
    "conn.close()\n"
   ]
  }
 ],
 "metadata": {
  "kernelspec": {
   "display_name": "base",
   "language": "python",
   "name": "python3"
  },
  "language_info": {
   "codemirror_mode": {
    "name": "ipython",
    "version": 3
   },
   "file_extension": ".py",
   "mimetype": "text/x-python",
   "name": "python",
   "nbconvert_exporter": "python",
   "pygments_lexer": "ipython3",
   "version": "3.11.5"
  }
 },
 "nbformat": 4,
 "nbformat_minor": 2
}
